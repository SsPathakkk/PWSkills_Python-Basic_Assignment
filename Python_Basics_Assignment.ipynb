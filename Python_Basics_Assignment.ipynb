{
  "nbformat": 4,
  "nbformat_minor": 0,
  "metadata": {
    "colab": {
      "provenance": []
    },
    "kernelspec": {
      "name": "python3",
      "display_name": "Python 3"
    },
    "language_info": {
      "name": "python"
    }
  },
  "cells": [
    {
      "cell_type": "markdown",
      "source": [
        "# **THEORY QUESTION & ANSWERS**"
      ],
      "metadata": {
        "id": "VieGEum9GNvY"
      }
    },
    {
      "cell_type": "markdown",
      "source": [
        "***[Question 1]*** What is Python, and why is it popular?\n",
        "\n",
        "-> Python is a high-level programming language that is easy to read and write. It is popular because it is simple, supports many areas like web development, data science, and AI, and has a huge collection of libraries and community support.\n"
      ],
      "metadata": {
        "id": "3xIZzWbuF0D4"
      }
    },
    {
      "cell_type": "markdown",
      "source": [
        "***[Question 2]*** What is an interpreter in Python?\n",
        "\n",
        "->The interpreter is the software that executes Python code. It reads the code line by line and runs it immediately.\n"
      ],
      "metadata": {
        "id": "WT8o6hgxGXLn"
      }
    },
    {
      "cell_type": "markdown",
      "source": [
        "***[Question 3]*** What are pre-defined keywords in Python?\n",
        "\n",
        "->Keywords are reserved words in Python that have special meanings, like if, else, for, while, True, False. We cannot use them as variable names.\n"
      ],
      "metadata": {
        "id": "bxUIXhcaHFGH"
      }
    },
    {
      "cell_type": "markdown",
      "source": [
        "***[Question 4]*** Can keywords be used as variable names?\n",
        "\n",
        "->No, keywords cannot be used as variable names because Python already uses them for its own rules and commands.\n"
      ],
      "metadata": {
        "id": "Iy3sb1FDOR2B"
      }
    },
    {
      "cell_type": "markdown",
      "source": [
        "***[Question 5]*** What is mutability in Python?\n",
        "\n",
        "->Mutability means whether the value of an object can be changed after it is created. Mutable objects can be changed, but immutable objects cannot.\n"
      ],
      "metadata": {
        "id": "E6ULiDBsH8xw"
      }
    },
    {
      "cell_type": "markdown",
      "source": [
        "***[Question 6]*** Why are lists mutable, but tuples are immutable?\n",
        "\n",
        "->Lists are mutable because we can add, remove, or change elements inside them. Tuples are immutable, which means once they are created, their values cannot be modified.\n"
      ],
      "metadata": {
        "id": "XGAr3EQSIJzg"
      }
    },
    {
      "cell_type": "markdown",
      "source": [
        "***[Question 7]*** What is the difference between \"==\" and \"is\" operators in Python?\n",
        "\n",
        "-> \"==\" checks if two values are the same, while \"is\" checks if two objects point to the same location in memory."
      ],
      "metadata": {
        "id": "E6o_mXdsIeFw"
      }
    },
    {
      "cell_type": "markdown",
      "source": [
        "***[Question 8]*** What are logical operators in Python?\n",
        "\n",
        "->Logical operators are used to combine conditions:\n",
        " 1. and → returns true if both conditions are true,\n",
        "\n",
        " 2. or → returns true if at least one condition is true,\n",
        "\n",
        " 3. not → reverses the condition.\n",
        "\n"
      ],
      "metadata": {
        "id": "LDPEnadaI0Qw"
      }
    },
    {
      "cell_type": "markdown",
      "source": [
        "***[Question 9]*** What is type casting in Python?\n",
        "\n",
        "->Type casting means converting one data type into another, like changing a string \"10\" into an integer 10.\n"
      ],
      "metadata": {
        "id": "QQOLAFHjJ8JI"
      }
    },
    {
      "cell_type": "markdown",
      "source": [
        "***[Question 10]*** What is the difference between implicit and explicit type casting?\n",
        "\n",
        "->Difference between Implicit and Explicit Casting as follows :-\n",
        "\n",
        " * Implicit casting is done automatically by Python (for example, int + float\n",
        "becomes float).\n",
        "\n",
        " * Explicit casting is done by the programmer using functions like int(), float(), str().\n"
      ],
      "metadata": {
        "id": "w7ww0MutKlfA"
      }
    },
    {
      "cell_type": "markdown",
      "source": [
        "***[Question 11]*** What is the purpose of conditional statements in Python?\n",
        "\n",
        "->Conditional statements are used to make decisions in a program. They allow the program to run different blocks of code depending on whether a condition is true or false.\n",
        "\n"
      ],
      "metadata": {
        "id": "B8b8M5vOKuBI"
      }
    },
    {
      "cell_type": "markdown",
      "source": [
        "***[Question 12]*** How does the elif statement work?\n",
        "\n",
        "->The elif statement means “else if.” If the first if condition is false, Python checks the elif condition, and so on until one is true.\n"
      ],
      "metadata": {
        "id": "WHhsgoVgMHo4"
      }
    },
    {
      "cell_type": "markdown",
      "source": [
        "***[Question 13]*** What is the difference between for and while loops?\n",
        "\n",
        "->Difference between \"For\" and \"While\" Loop is as follows :-\n",
        " * \"for\" loop is used when we know how many times we need to repeat.\n",
        "\n",
        " * \"while\" loop is used when we don’t know the exact number of repetitions and want to continue until a condition becomes false.\n"
      ],
      "metadata": {
        "id": "iGN0Hx16M8wQ"
      }
    },
    {
      "cell_type": "markdown",
      "source": [
        "***[Question 14]*** Describe a scenario where a \"while\" loop is more suitable than a \"for\" loop.\n",
        "\n",
        "->A while loop is better when we don’t know in advance how many times something should run. For example, keep asking the user for a correct password until they enter the right one."
      ],
      "metadata": {
        "id": "we_hnaVdNh75"
      }
    },
    {
      "cell_type": "markdown",
      "source": [
        "# x-----x"
      ],
      "metadata": {
        "id": "64O0RYd-N6K5"
      }
    },
    {
      "cell_type": "markdown",
      "source": [
        "# PRACTICAL QUESTION & ANSWERS"
      ],
      "metadata": {
        "id": "hWKENf7pPPK5"
      }
    },
    {
      "cell_type": "markdown",
      "source": [
        "**Q1. Write a Python program to print \"Hello, World!\"**"
      ],
      "metadata": {
        "id": "LG0qvdZQPPE5"
      }
    },
    {
      "cell_type": "code",
      "source": [
        "print(\"Hello, World!\")"
      ],
      "metadata": {
        "id": "hJi4dH7GPnUY",
        "colab": {
          "base_uri": "https://localhost:8080/"
        },
        "outputId": "da697592-f371-4d71-a458-ca9868f0a66f"
      },
      "execution_count": 2,
      "outputs": [
        {
          "output_type": "stream",
          "name": "stdout",
          "text": [
            "Hello, World!\n"
          ]
        }
      ]
    },
    {
      "cell_type": "markdown",
      "source": [
        "**Q2. Write a Python program that displays your name and age.**"
      ],
      "metadata": {
        "id": "2CuaK7WrP2Nx"
      }
    },
    {
      "cell_type": "code",
      "source": [
        "name = \"Shashwat Shourya Pathak\"\n",
        "age = 23\n",
        "print(\"My name is\", name)\n",
        "print(\"I am\", age, \"years old\")"
      ],
      "metadata": {
        "collapsed": true,
        "id": "VrZq09zSP6UI",
        "colab": {
          "base_uri": "https://localhost:8080/"
        },
        "outputId": "f0bc58c2-c055-4b8a-d5ec-06975d909ab8"
      },
      "execution_count": 3,
      "outputs": [
        {
          "output_type": "stream",
          "name": "stdout",
          "text": [
            "My name is Shashwat Shourya Pathak\n",
            "I am 23 years old\n"
          ]
        }
      ]
    },
    {
      "cell_type": "markdown",
      "source": [
        "**Q3. Write code to print all the pre-defined keywords in Python using the keyword library.**"
      ],
      "metadata": {
        "id": "JbTJJXfGQVYh"
      }
    },
    {
      "cell_type": "code",
      "source": [
        "import keyword\n",
        "print(keyword.kwlist)"
      ],
      "metadata": {
        "collapsed": true,
        "id": "H7rMw4LiQc4p",
        "colab": {
          "base_uri": "https://localhost:8080/"
        },
        "outputId": "9b998684-29ba-4c96-ff67-14258cf5df75"
      },
      "execution_count": 4,
      "outputs": [
        {
          "output_type": "stream",
          "name": "stdout",
          "text": [
            "['False', 'None', 'True', 'and', 'as', 'assert', 'async', 'await', 'break', 'class', 'continue', 'def', 'del', 'elif', 'else', 'except', 'finally', 'for', 'from', 'global', 'if', 'import', 'in', 'is', 'lambda', 'nonlocal', 'not', 'or', 'pass', 'raise', 'return', 'try', 'while', 'with', 'yield']\n"
          ]
        }
      ]
    },
    {
      "cell_type": "markdown",
      "source": [
        "**Q4. Write a program that checks if a given word is a Python keyword.**"
      ],
      "metadata": {
        "id": "G6Fc8rtqQniw"
      }
    },
    {
      "cell_type": "code",
      "source": [
        "import keyword\n",
        "\n",
        "word = input(\"Enter a word: \")\n",
        "\n",
        "if keyword.iskeyword(word):\n",
        "    print(word, \"is a Python keyword\")\n",
        "else:\n",
        "    print(word, \"is NOT a Python keyword\")"
      ],
      "metadata": {
        "collapsed": true,
        "id": "WF6GVZtpQuSw",
        "colab": {
          "base_uri": "https://localhost:8080/"
        },
        "outputId": "f9574b4a-6314-4595-e1cc-07d87bc36f42"
      },
      "execution_count": 6,
      "outputs": [
        {
          "output_type": "stream",
          "name": "stdout",
          "text": [
            "Enter a word: for\n",
            "for is a Python keyword\n"
          ]
        }
      ]
    },
    {
      "cell_type": "markdown",
      "source": [
        "**Q5. Create a list and tuple in Python, and show how changing an element works differently.**"
      ],
      "metadata": {
        "id": "0_tc_wIORFhh"
      }
    },
    {
      "cell_type": "code",
      "source": [
        "# List (can be changed)\n",
        "my_list = [1, 2, 3]\n",
        "my_list[0] = 100\n",
        "print(\"List after change:\", my_list)\n",
        "\n",
        "# Tuple (cannot be changed)\n",
        "my_tuple = (1, 2, 3)\n",
        "print(\"Tuple before change:\", my_tuple)\n",
        "\n",
        "# my_tuple[0] = 100  # ❌ Error if you try"
      ],
      "metadata": {
        "collapsed": true,
        "id": "5zA61FPBRvYR",
        "colab": {
          "base_uri": "https://localhost:8080/"
        },
        "outputId": "fd47dfea-efff-445f-f793-1af3bd959157"
      },
      "execution_count": 7,
      "outputs": [
        {
          "output_type": "stream",
          "name": "stdout",
          "text": [
            "List after change: [100, 2, 3]\n",
            "Tuple before change: (1, 2, 3)\n"
          ]
        }
      ]
    },
    {
      "cell_type": "markdown",
      "source": [
        "**Q6. Write a function to show the behavior of mutable and immutable arguments.**"
      ],
      "metadata": {
        "id": "B4jUPtAvSAi5"
      }
    },
    {
      "cell_type": "code",
      "source": [
        "def change_list(lst):\n",
        "    lst.append(10)\n",
        "\n",
        "def change_number(num):\n",
        "    num = num + 10\n",
        "\n",
        "numbers = [1, 2, 3]\n",
        "change_list(numbers)\n",
        "print(\"List after function:\", numbers)\n",
        "\n",
        "x = 5\n",
        "change_number(x)\n",
        "print(\"Number after function:\", x)"
      ],
      "metadata": {
        "collapsed": true,
        "id": "tEVsuQMdSKHB",
        "colab": {
          "base_uri": "https://localhost:8080/"
        },
        "outputId": "5b6071b7-95bd-456d-b5ea-f17f782bbaca"
      },
      "execution_count": 8,
      "outputs": [
        {
          "output_type": "stream",
          "name": "stdout",
          "text": [
            "List after function: [1, 2, 3, 10]\n",
            "Number after function: 5\n"
          ]
        }
      ]
    },
    {
      "cell_type": "markdown",
      "source": [
        "**Q7. Write a program that performs basic arithmetic operations on two user-input numbers.**"
      ],
      "metadata": {
        "id": "YNnc8bavSyNB"
      }
    },
    {
      "cell_type": "code",
      "source": [
        "a = int(input(\"Enter first number: \"))\n",
        "b = int(input(\"Enter second number: \"))\n",
        "\n",
        "print(\"Sum =\", a + b)\n",
        "print(\"Difference =\", a - b)\n",
        "print(\"Product =\", a * b)\n",
        "print(\"Division =\", a / b)"
      ],
      "metadata": {
        "collapsed": true,
        "id": "ONh8H8uiS1tp",
        "colab": {
          "base_uri": "https://localhost:8080/"
        },
        "outputId": "1402dea6-b27a-4b52-d327-ec64ffb154e8"
      },
      "execution_count": 9,
      "outputs": [
        {
          "output_type": "stream",
          "name": "stdout",
          "text": [
            "Enter first number: 369\n",
            "Enter second number: 963\n",
            "Sum = 1332\n",
            "Difference = -594\n",
            "Product = 355347\n",
            "Division = 0.38317757009345793\n"
          ]
        }
      ]
    },
    {
      "cell_type": "markdown",
      "source": [
        "**Q8. Write a program to demonstrate the use of logical operators.**"
      ],
      "metadata": {
        "id": "N2UBrJ_UTUAx"
      }
    },
    {
      "cell_type": "code",
      "source": [
        "x = 369\n",
        "y = 963\n",
        "\n",
        "print(x > 2 and y > 5)\n",
        "print(x > 2 or y < 5)\n",
        "print(not(x > 2))"
      ],
      "metadata": {
        "collapsed": true,
        "id": "B2YT5x_nTc45",
        "colab": {
          "base_uri": "https://localhost:8080/"
        },
        "outputId": "63454b3e-7175-477f-9e38-ba882475fe85"
      },
      "execution_count": 10,
      "outputs": [
        {
          "output_type": "stream",
          "name": "stdout",
          "text": [
            "True\n",
            "True\n",
            "False\n"
          ]
        }
      ]
    },
    {
      "cell_type": "markdown",
      "source": [
        "**Q9. Write a Python program to convert user input from string to integer, float, and boolean types.**"
      ],
      "metadata": {
        "id": "IwIMD34rTzw5"
      }
    },
    {
      "cell_type": "code",
      "source": [
        "s = input(\"Enter a number: \")\n",
        "\n",
        "print(\"As integer:\", int(s))\n",
        "print(\"As float:\", float(s))\n",
        "print(\"As boolean:\", bool(int(s)))"
      ],
      "metadata": {
        "collapsed": true,
        "id": "l06DlP-GT9Rh",
        "colab": {
          "base_uri": "https://localhost:8080/"
        },
        "outputId": "896ab484-2092-4903-93d3-0c8814a2567f"
      },
      "execution_count": 11,
      "outputs": [
        {
          "output_type": "stream",
          "name": "stdout",
          "text": [
            "Enter a number: 369\n",
            "As integer: 369\n",
            "As float: 369.0\n",
            "As boolean: True\n"
          ]
        }
      ]
    },
    {
      "cell_type": "markdown",
      "source": [
        "**Q10. Write code to demonstrate type casting with list elements.**"
      ],
      "metadata": {
        "id": "4nBsHM96UDG5"
      }
    },
    {
      "cell_type": "code",
      "source": [
        "my_list = [\"3\", \"6\", \"9\"]\n",
        "print(\"Original list:\", my_list)\n",
        "\n",
        "new_list = [int(x) for x in my_list]\n",
        "print(\"After casting:\", new_list)"
      ],
      "metadata": {
        "collapsed": true,
        "id": "v6tmi3kYUPBS",
        "colab": {
          "base_uri": "https://localhost:8080/"
        },
        "outputId": "6324d693-24ce-4364-f5bf-3ac150fc3596"
      },
      "execution_count": 12,
      "outputs": [
        {
          "output_type": "stream",
          "name": "stdout",
          "text": [
            "Original list: ['3', '6', '9']\n",
            "After casting: [3, 6, 9]\n"
          ]
        }
      ]
    },
    {
      "cell_type": "markdown",
      "source": [
        "**Q11. Write a program that checks if a number is positive, negative, or zero.**"
      ],
      "metadata": {
        "id": "Gc5ArRm3Uc5Z"
      }
    },
    {
      "cell_type": "code",
      "source": [
        "num = int(input(\"Enter a number: \"))\n",
        "\n",
        "if num > 0:\n",
        "    print(\"The number is Positive\")\n",
        "elif num < 0:\n",
        "    print(\"The number is Negative\")\n",
        "else:\n",
        "    print(\"The number is Zero\")"
      ],
      "metadata": {
        "collapsed": true,
        "id": "d2XCltg5Uepi",
        "colab": {
          "base_uri": "https://localhost:8080/"
        },
        "outputId": "950d6b55-a120-4230-8fa9-6fd2d3c06063"
      },
      "execution_count": 13,
      "outputs": [
        {
          "output_type": "stream",
          "name": "stdout",
          "text": [
            "Enter a number: -369\n",
            "The number is Negative\n"
          ]
        }
      ]
    },
    {
      "cell_type": "markdown",
      "source": [
        "**Q12. Write a for loop to print numbers from 1 to 10.**"
      ],
      "metadata": {
        "id": "Pq4WvQ8hVTlB"
      }
    },
    {
      "cell_type": "code",
      "source": [
        "for i in range(1, 11):\n",
        "    print(i)"
      ],
      "metadata": {
        "collapsed": true,
        "id": "FMaFBI1YVaha",
        "colab": {
          "base_uri": "https://localhost:8080/"
        },
        "outputId": "b28d6074-a833-4241-be2c-20461da725f5"
      },
      "execution_count": 14,
      "outputs": [
        {
          "output_type": "stream",
          "name": "stdout",
          "text": [
            "1\n",
            "2\n",
            "3\n",
            "4\n",
            "5\n",
            "6\n",
            "7\n",
            "8\n",
            "9\n",
            "10\n"
          ]
        }
      ]
    },
    {
      "cell_type": "markdown",
      "source": [
        "**Q13. Write a Python program to find the sum of all even numbers between 1 and 50.**"
      ],
      "metadata": {
        "id": "0sXBvnzqVgdp"
      }
    },
    {
      "cell_type": "code",
      "source": [
        "total = 0\n",
        "for i in range(1, 51):\n",
        "    if i % 2 == 0:\n",
        "        total = total + i\n",
        "\n",
        "print(\"Sum of even numbers from 1 to 50 is:\", total)"
      ],
      "metadata": {
        "collapsed": true,
        "id": "PuN5JSsbVmDp",
        "colab": {
          "base_uri": "https://localhost:8080/"
        },
        "outputId": "42f8acfa-acd5-45fd-f2b7-1ff53e96c01f"
      },
      "execution_count": 15,
      "outputs": [
        {
          "output_type": "stream",
          "name": "stdout",
          "text": [
            "Sum of even numbers from 1 to 50 is: 650\n"
          ]
        }
      ]
    },
    {
      "cell_type": "markdown",
      "source": [
        "**Q14. Write a program to reverse a string using a while loop.**"
      ],
      "metadata": {
        "id": "ZvJY-U75V2AJ"
      }
    },
    {
      "cell_type": "code",
      "source": [
        "text = input(\"Enter a string: \")\n",
        "reverse = \"\"\n",
        "i = len(text) - 1\n",
        "\n",
        "while i >= 0:\n",
        "    reverse = reverse + text[i]\n",
        "    i = i - 1\n",
        "\n",
        "print(\"Reversed string is:\", reverse)"
      ],
      "metadata": {
        "id": "jZUDXBWAWUcB",
        "colab": {
          "base_uri": "https://localhost:8080/"
        },
        "outputId": "092527c4-4d5a-4298-8df2-44522a2dac4e"
      },
      "execution_count": 16,
      "outputs": [
        {
          "output_type": "stream",
          "name": "stdout",
          "text": [
            "Enter a string: Level\n",
            "Reversed string is: leveL\n"
          ]
        }
      ]
    },
    {
      "cell_type": "markdown",
      "source": [
        "**Q15. Write a Python program to calculate the factorial of a number provided by the user using a while loop.**"
      ],
      "metadata": {
        "id": "c2hmGKzSXI38"
      }
    },
    {
      "cell_type": "code",
      "source": [
        "num = int(input(\"Enter a number: \"))\n",
        "fact = 1\n",
        "i = 1\n",
        "\n",
        "while i <= num:\n",
        "    fact = fact * i\n",
        "    i = i + 1\n",
        "\n",
        "print(\"Factorial of\", num, \"is\", fact)"
      ],
      "metadata": {
        "id": "C9eTbtsyX6WT",
        "colab": {
          "base_uri": "https://localhost:8080/"
        },
        "outputId": "570ebae6-39ac-4ab6-ee0a-46ef80f8e0ce"
      },
      "execution_count": 18,
      "outputs": [
        {
          "output_type": "stream",
          "name": "stdout",
          "text": [
            "Enter a number: 3\n",
            "Factorial of 3 is 6\n"
          ]
        }
      ]
    }
  ]
}